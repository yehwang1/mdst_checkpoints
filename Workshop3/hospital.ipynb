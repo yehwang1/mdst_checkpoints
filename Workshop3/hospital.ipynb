{
 "cells": [
  {
   "cell_type": "code",
   "execution_count": 2,
   "metadata": {},
   "outputs": [],
   "source": [
    "import pandas as pd\n",
    "import matplotlib.pyplot as plt\n",
    "import scipy.stats as stats\n",
    "df = pd.read_csv(\"./HospitalAdmissionsData.csv\")"
   ]
  },
  {
   "cell_type": "code",
   "execution_count": 3,
   "metadata": {},
   "outputs": [
    {
     "name": "stdout",
     "output_type": "stream",
     "text": [
      "['ID', 'AdmissionLengthDays', 'Death_1', 'Admission_Type', 'Insurance_Type', 'EnglishLanguage_1', 'Religion_Type', 'Married_1', 'Race', 'Dx']\n"
     ]
    }
   ],
   "source": [
    "print(list(df.columns))"
   ]
  },
  {
   "cell_type": "code",
   "execution_count": 4,
   "metadata": {},
   "outputs": [
    {
     "name": "stdout",
     "output_type": "stream",
     "text": [
      "ID  =  <class 'numpy.int64'>\n",
      "AdmissionLengthDays  =  <class 'numpy.float64'>\n",
      "Death_1  =  <class 'numpy.int64'>\n",
      "Admission_Type  =  <class 'str'>\n",
      "Insurance_Type  =  <class 'str'>\n",
      "EnglishLanguage_1  =  <class 'numpy.int64'>\n",
      "Religion_Type  =  <class 'str'>\n",
      "Married_1  =  <class 'numpy.int64'>\n",
      "Race  =  <class 'str'>\n",
      "Dx  =  <class 'str'>\n"
     ]
    }
   ],
   "source": [
    "float = 0\n",
    "int = 0\n",
    "for x in list(df.columns):\n",
    "    print(x, \" = \", type(df.loc[0,x]))"
   ]
  },
  {
   "cell_type": "code",
   "execution_count": null,
   "metadata": {},
   "outputs": [],
   "source": [
    "print(list(df[\"Insurance_Type\"].unique()))"
   ]
  },
  {
   "cell_type": "code",
   "execution_count": null,
   "metadata": {},
   "outputs": [],
   "source": [
    "df.AdmissionLengthDays.describe()"
   ]
  },
  {
   "cell_type": "code",
   "execution_count": null,
   "metadata": {},
   "outputs": [],
   "source": [
    "df.groupby('Admission_Type').count().idxmax() \n",
    "df.groupby('Insurance_Type').count().idxmax() \n",
    "df.groupby('Religion_Type').count().idxmax()\n",
    "df.groupby('Race').count().idxmax() \n",
    "df.groupby('Dx').count().idxmax() "
   ]
  },
  {
   "cell_type": "code",
   "execution_count": null,
   "metadata": {},
   "outputs": [],
   "source": [
    "hist1 = df['AdmissionLengthDays'].plot(kind=\"hist\", sharex=True,sharey=True, bins=50)\n",
    "hist1.set_title(\"Admission Days\")\n",
    "hist1.set_xlabel(\"days\")\n",
    "hist1.set_ylabel(\"frequency (people)\")"
   ]
  },
  {
   "cell_type": "code",
   "execution_count": null,
   "metadata": {},
   "outputs": [],
   "source": [
    "hist2 = df['AdmissionLengthDays'].plot(kind=\"hist\", sharex=True,sharey=True, bins=50, log=True)\n",
    "hist2.set_title(\"Admission Days with log scale\")\n",
    "hist2.set_xlabel(\"days\")\n",
    "hist2.set_ylabel(\"frequency (people)\")\n",
    "'''As the length of stay increases, the frequency of people decreases exponentially.'''"
   ]
  },
  {
   "cell_type": "code",
   "execution_count": null,
   "metadata": {},
   "outputs": [],
   "source": [
    "print(\"Summary for dead\")\n",
    "print(df[df[\"Death_1\"] == 1]['AdmissionLengthDays'].describe())\n",
    "print(\"Summary for alive\")\n",
    "print(df[df[\"Death_1\"] == 0]['AdmissionLengthDays'].describe())"
   ]
  },
  {
   "cell_type": "code",
   "execution_count": 5,
   "metadata": {},
   "outputs": [
    {
     "data": {
      "text/plain": [
       "Text(0, 0.5, 'frequency (people)')"
      ]
     },
     "execution_count": 5,
     "metadata": {},
     "output_type": "execute_result"
    },
    {
     "data": {
      "image/png": "[encoded data removed]",
      "text/plain": [
       "<Figure size 432x288 with 2 Axes>"
      ]
     },
     "metadata": {
      "needs_background": "light"
     },
     "output_type": "display_data"
    }
   ],
   "source": [
    "fig, avg2 = plt.subplots(2)\n",
    "avg2[0] = df[df[\"Death_1\"] == 0]['AdmissionLengthDays'].plot(kind=\"hist\", sharex=True,sharey=True, bins=50, log=True)\n",
    "avg2[1] = df[df[\"Death_1\"] == 1]['AdmissionLengthDays'].plot(kind=\"hist\", sharex=True,sharey=True, bins=50, log=True)\n",
    "avg2[0].set_title(\"Admission Days with log scale\")\n",
    "avg2[0].set_xlabel(\"days\")\n",
    "avg2[0].set_ylabel(\"frequency (people)\")"
   ]
  },
  {
   "cell_type": "code",
   "execution_count": null,
   "metadata": {},
   "outputs": [],
   "source": [
    "df.groupby(\"Insurance_Type\")[\"Death_1\"]"
   ]
  }
 ],
 "metadata": {
  "kernelspec": {
   "display_name": "Python 3",
   "language": "python",
   "name": "python3"
  },
  "language_info": {
   "codemirror_mode": {
    "name": "ipython",
    "version": 3
   },
   "file_extension": ".py",
   "mimetype": "text/x-python",
   "name": "python",
   "nbconvert_exporter": "python",
   "pygments_lexer": "ipython3",
   "version": "3.7.4"
  }
 },
 "nbformat": 4,
 "nbformat_minor": 2
}
